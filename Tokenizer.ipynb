{
 "cells": [
  {
   "cell_type": "code",
   "execution_count": 33,
   "metadata": {
    "collapsed": true
   },
   "outputs": [],
   "source": [
    "from nltk.tokenize import sent_tokenize\n",
    "from nltk.tokenize import word_tokenize\n",
    "\n",
    "from os.path import join, isdir\n",
    "from os import listdir, makedirs"
   ]
  },
  {
   "cell_type": "code",
   "execution_count": 21,
   "metadata": {
    "collapsed": true
   },
   "outputs": [],
   "source": [
    "results_path = 'C:/Users/Sdern/Desktop/results'\n",
    "markup_path = 'C:/Users/Sdern/Desktop/markup'"
   ]
  },
  {
   "cell_type": "code",
   "execution_count": 38,
   "metadata": {
    "collapsed": false
   },
   "outputs": [
    {
     "name": "stdout",
     "output_type": "stream",
     "text": [
      "( .NET Framework.txt 1 2 3 4 5 6 7 8 9 A B C D E example.csv F G H I J K L M metainfo.txt N O P Q R S T U V W X Z Ё А Б В Г Д Е Ж З И Й К Л М Н О П Р С Т У Ф Х Ц Ч Ш Щ Э Ю Я "
     ]
    }
   ],
   "source": [
    "total_sentences = 0\n",
    "result_folders = listdir(results_path)\n",
    "for folder in result_folders:\n",
    "    if isdir(join(results_path, folder)):        \n",
    "        files = listdir(join(results_path, folder))\n",
    "        try:\n",
    "            makedirs(join(markup_path, folder))\n",
    "        except OSError:\n",
    "            pass\n",
    "        for fl in files:\n",
    "            markup_file_path = join(markup_path, folder, fl[:fl.find('.txt')]+'.csv')\n",
    "            result_file_path = join(results_path, folder, fl)\n",
    "            total_sentences += process_file(result_file_path, markup_file_path)\n",
    "    print(folder, end=' ')"
   ]
  },
  {
   "cell_type": "code",
   "execution_count": 37,
   "metadata": {
    "collapsed": false
   },
   "outputs": [],
   "source": [
    "def process_file(result_file_path, markup_file_path):\n",
    "    text = open(result_file_path, 'r', encoding='utf-8').read()\n",
    "    markup_file = open(markup_file_path, 'w', encoding='utf-8')\n",
    "    pos = 0\n",
    "    sentence_num = 0\n",
    "    Id = 0\n",
    "    markup_file.write(\"Id,sentence,token,pos\\n\")\n",
    "    \n",
    "    sentences = sent_tokenize(text)\n",
    "    for sentence in sentences:\n",
    "        words = word_tokenize(sentence)\n",
    "        new_pos = text.find(sentence, pos)\n",
    "        if new_pos != -1:\n",
    "            pos = new_pos\n",
    "        for word in words:\n",
    "            new_pos = text.find(word, pos)\n",
    "            markup_file.write(str(Id) + ',' + str(sentence_num) + ',' + word + ',' + str(new_pos) + '\\n')\n",
    "            if new_pos != -1:\n",
    "                pos = new_pos\n",
    "            Id+=1\n",
    "        sentence_num+=1\n",
    "    markup_file.close()\n",
    "    return sentence_num"
   ]
  },
  {
   "cell_type": "code",
   "execution_count": 39,
   "metadata": {
    "collapsed": false
   },
   "outputs": [
    {
     "name": "stdout",
     "output_type": "stream",
     "text": [
      "419086\n"
     ]
    }
   ],
   "source": [
    "print(total_sentences)"
   ]
  }
 ],
 "metadata": {
  "kernelspec": {
   "display_name": "Python 3",
   "language": "python",
   "name": "python3"
  },
  "language_info": {
   "codemirror_mode": {
    "name": "ipython",
    "version": 3
   },
   "file_extension": ".py",
   "mimetype": "text/x-python",
   "name": "python",
   "nbconvert_exporter": "python",
   "pygments_lexer": "ipython3",
   "version": "3.4.4"
  }
 },
 "nbformat": 4,
 "nbformat_minor": 0
}
