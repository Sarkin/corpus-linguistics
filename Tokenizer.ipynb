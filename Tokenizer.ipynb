{
 "cells": [
  {
   "cell_type": "code",
   "execution_count": 9,
   "metadata": {},
   "outputs": [],
   "source": [
    "from nltk.tokenize import sent_tokenize\n",
    "from nltk.tokenize import word_tokenize\n",
    "import pymorphy2\n",
    "import pandas as pd\n",
    "from os.path import join, isdir\n",
    "from os import listdir, makedirs\n",
    "from __future__ import print_function\n",
    "import io"
   ]
  },
  {
   "cell_type": "code",
   "execution_count": 2,
   "metadata": {},
   "outputs": [],
   "source": [
    "data_path = './data'\n",
    "markup_path = './markup'"
   ]
  },
  {
   "cell_type": "code",
   "execution_count": 3,
   "metadata": {},
   "outputs": [],
   "source": [
    "morph = pymorphy2.MorphAnalyzer()\n",
    "def norm(x):    \n",
    "    p = morph.parse(x)[0]\n",
    "    return p.normal_form"
   ]
  },
  {
   "cell_type": "code",
   "execution_count": 18,
   "metadata": {},
   "outputs": [
    {
     "name": "stdout",
     "output_type": "stream",
     "text": [
      "I H M Р 5 F A 4 P metainfo.txt В А Т Щ Ч N И О Е E S G U 7 6 Н 9 Ш Z Й 8 М X З 1 Ё O У .NET Framework.txt Х С C W V Б J B П 3 Д Г Э Л 2 К K L T Q D Ц Ф Я Ж R ( Ю "
     ]
    }
   ],
   "source": [
    "total_sentences = 0\n",
    "data_folders = listdir(data_path)\n",
    "for folder in data_folders:\n",
    "    if isdir(join(data_path, folder)):        \n",
    "        files = listdir(join(data_path, folder))\n",
    "        try:\n",
    "            makedirs(join(markup_path, folder))\n",
    "        except OSError:\n",
    "            pass\n",
    "        for fl in files:\n",
    "            markup_file_path = join(markup_path, folder, fl[:fl.find('.txt')]+'.csv')\n",
    "            data_file_path = join(data_path, folder, fl)\n",
    "            total_sentences += process_file(data_file_path, markup_file_path)\n",
    "    print(folder, end=' ')"
   ]
  },
  {
   "cell_type": "code",
   "execution_count": 17,
   "metadata": {},
   "outputs": [],
   "source": [
    "def process_file(result_file_path, markup_file_path):\n",
    "    text = io.open(result_file_path, 'r', encoding='utf-8').read()\n",
    "    pos = 0\n",
    "    sentence_num = 0\n",
    "    Id = 0\n",
    "    \n",
    "    dataframe = {'id':[], 'sentence':[], 'token':[],'pos':[], 'norm':[]}\n",
    "    sentences = sent_tokenize(text)\n",
    "    for sentence in sentences:\n",
    "        words = word_tokenize(sentence)\n",
    "        new_pos = text.find(sentence, pos)\n",
    "        if new_pos != -1:\n",
    "            pos = new_pos\n",
    "        for word in words:\n",
    "            new_pos = text.find(word, pos)\n",
    "            \n",
    "            dataframe['id'].append(Id)\n",
    "            dataframe['sentence'].append(sentence_num)\n",
    "            dataframe['token'].append(word)\n",
    "            dataframe['pos'].append(new_pos)\n",
    "            dataframe['norm'].append(norm(word))\n",
    "            \n",
    "            if new_pos != -1:\n",
    "                pos = new_pos\n",
    "            Id+=1\n",
    "        sentence_num+=1\n",
    "\n",
    "    pd.DataFrame(data=dataframe).to_csv(markup_file_path, encoding='utf-8')\n",
    "    return sentence_num"
   ]
  },
  {
   "cell_type": "code",
   "execution_count": 39,
   "metadata": {},
   "outputs": [
    {
     "name": "stdout",
     "output_type": "stream",
     "text": [
      "419086\n"
     ]
    }
   ],
   "source": [
    "print(total_sentences)"
   ]
  },
  {
   "cell_type": "code",
   "execution_count": 15,
   "metadata": {},
   "outputs": [
    {
     "name": "stdout",
     "output_type": "stream",
     "text": [
      "[nltk_data] Downloading package punkt to /home/sdernal/nltk_data...\n",
      "[nltk_data]   Unzipping tokenizers/punkt.zip.\n"
     ]
    },
    {
     "data": {
      "text/plain": [
       "True"
      ]
     },
     "execution_count": 15,
     "metadata": {},
     "output_type": "execute_result"
    }
   ],
   "source": [
    "import nltk\n",
    "nltk.download('punkt')"
   ]
  }
 ],
 "metadata": {
  "kernelspec": {
   "display_name": "Python 2",
   "language": "python",
   "name": "python2"
  },
  "language_info": {
   "codemirror_mode": {
    "name": "ipython",
    "version": 2
   },
   "file_extension": ".py",
   "mimetype": "text/x-python",
   "name": "python",
   "nbconvert_exporter": "python",
   "pygments_lexer": "ipython2",
   "version": "2.7.14"
  }
 },
 "nbformat": 4,
 "nbformat_minor": 1
}
