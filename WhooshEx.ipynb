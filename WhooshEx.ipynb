{
 "cells": [
  {
   "cell_type": "code",
   "execution_count": 1,
   "metadata": {},
   "outputs": [],
   "source": [
    "from whoosh.index import create_in\n",
    "from whoosh.fields import *\n",
    "import io\n",
    "from __future__ import print_function\n",
    "from os.path import join, isdir\n",
    "from os import listdir"
   ]
  },
  {
   "cell_type": "code",
   "execution_count": 2,
   "metadata": {},
   "outputs": [],
   "source": [
    "data_path = './data'\n",
    "index_path = './index'"
   ]
  },
  {
   "cell_type": "code",
   "execution_count": 3,
   "metadata": {},
   "outputs": [],
   "source": [
    "schema = Schema(title=TEXT(stored=True), path=ID(stored=True), content=TEXT)\n",
    "ix = create_in(index_path,schema)\n",
    "writer = ix.writer()"
   ]
  },
  {
   "cell_type": "code",
   "execution_count": 6,
   "metadata": {},
   "outputs": [
    {
     "name": "stdout",
     "output_type": "stream",
     "text": [
      "I H M Р 5 F A 4 P metainfo.txt ./data/В/Встроенный язык программирования 1С\n",
      "В А Т Щ Ч N И О Е E S G U 7 6 Н 9 Ш Z Й 8 М X З 1 Ё O У .NET Framework.txt Х С C W V Б J B П 3 ./data/Д/Дюна\n",
      "Д Г Э Л 2 К K L T Q D Ц Ф Я Ж R ( Ю "
     ]
    }
   ],
   "source": [
    "data_folders = listdir(data_path)\n",
    "for folder in data_folders:\n",
    "    if isdir(join(data_path, folder)):        \n",
    "        files = listdir(join(data_path, folder))\n",
    "        for fl in files:\n",
    "            data_file_path = join(data_path, folder, fl)\n",
    "            try:\n",
    "                writer.add_document(title = fl[:fl.find('.txt')].decode(encoding='utf-8'),\n",
    "                    path = data_file_path.decode(encoding='utf-8'), content = io.open(data_file_path, 'r',encoding='utf-8').read())          \n",
    "            except Exception:\n",
    "                print(data_file_path)\n",
    "    print(folder, end=' ')\n",
    "writer.commit()"
   ]
  },
  {
   "cell_type": "code",
   "execution_count": 7,
   "metadata": {},
   "outputs": [],
   "source": [
    "from whoosh.qparser import QueryParser"
   ]
  },
  {
   "cell_type": "code",
   "execution_count": 17,
   "metadata": {},
   "outputs": [
    {
     "name": "stdout",
     "output_type": "stream",
     "text": [
      "./data/Л/Литва.txt\n"
     ]
    }
   ],
   "source": [
    "with ix.searcher() as searcher:\n",
    "    query = QueryParser(\"content\", ix.schema).parse(u'Литва')\n",
    "    results = searcher.search(query)\n",
    "    print(results[0]['path'])"
   ]
  },
  {
   "cell_type": "code",
   "execution_count": null,
   "metadata": {},
   "outputs": [],
   "source": []
  }
 ],
 "metadata": {
  "kernelspec": {
   "display_name": "Python 2",
   "language": "python",
   "name": "python2"
  },
  "language_info": {
   "codemirror_mode": {
    "name": "ipython",
    "version": 2
   },
   "file_extension": ".py",
   "mimetype": "text/x-python",
   "name": "python",
   "nbconvert_exporter": "python",
   "pygments_lexer": "ipython2",
   "version": "2.7.14"
  }
 },
 "nbformat": 4,
 "nbformat_minor": 2
}
