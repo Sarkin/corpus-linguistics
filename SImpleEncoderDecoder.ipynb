{
 "cells": [
  {
   "cell_type": "code",
   "execution_count": 42,
   "metadata": {
    "collapsed": true
   },
   "outputs": [],
   "source": [
    "import pandas as pd\n",
    "import numpy as np"
   ]
  },
  {
   "cell_type": "code",
   "execution_count": 2,
   "metadata": {
    "collapsed": true
   },
   "outputs": [],
   "source": [
    "sample_file_path = './markup/A/ADSL.csv'"
   ]
  },
  {
   "cell_type": "code",
   "execution_count": 3,
   "metadata": {
    "collapsed": true
   },
   "outputs": [],
   "source": [
    "data = pd.read_csv(sample_file_path)"
   ]
  },
  {
   "cell_type": "code",
   "execution_count": 4,
   "metadata": {},
   "outputs": [
    {
     "data": {
      "text/html": [
       "<div>\n",
       "<style>\n",
       "    .dataframe thead tr:only-child th {\n",
       "        text-align: right;\n",
       "    }\n",
       "\n",
       "    .dataframe thead th {\n",
       "        text-align: left;\n",
       "    }\n",
       "\n",
       "    .dataframe tbody tr th {\n",
       "        vertical-align: top;\n",
       "    }\n",
       "</style>\n",
       "<table border=\"1\" class=\"dataframe\">\n",
       "  <thead>\n",
       "    <tr style=\"text-align: right;\">\n",
       "      <th></th>\n",
       "      <th>Unnamed: 0</th>\n",
       "      <th>id</th>\n",
       "      <th>norm</th>\n",
       "      <th>pos</th>\n",
       "      <th>sentence</th>\n",
       "      <th>token</th>\n",
       "    </tr>\n",
       "  </thead>\n",
       "  <tbody>\n",
       "    <tr>\n",
       "      <th>0</th>\n",
       "      <td>0</td>\n",
       "      <td>0</td>\n",
       "      <td>adsl</td>\n",
       "      <td>0</td>\n",
       "      <td>0</td>\n",
       "      <td>ADSL</td>\n",
       "    </tr>\n",
       "    <tr>\n",
       "      <th>1</th>\n",
       "      <td>1</td>\n",
       "      <td>1</td>\n",
       "      <td>adsl</td>\n",
       "      <td>0</td>\n",
       "      <td>0</td>\n",
       "      <td>ADSL</td>\n",
       "    </tr>\n",
       "    <tr>\n",
       "      <th>2</th>\n",
       "      <td>2</td>\n",
       "      <td>2</td>\n",
       "      <td>(</td>\n",
       "      <td>11</td>\n",
       "      <td>0</td>\n",
       "      <td>(</td>\n",
       "    </tr>\n",
       "    <tr>\n",
       "      <th>3</th>\n",
       "      <td>3</td>\n",
       "      <td>3</td>\n",
       "      <td>—</td>\n",
       "      <td>13</td>\n",
       "      <td>0</td>\n",
       "      <td>—</td>\n",
       "    </tr>\n",
       "    <tr>\n",
       "      <th>4</th>\n",
       "      <td>4</td>\n",
       "      <td>4</td>\n",
       "      <td>асимметричный</td>\n",
       "      <td>15</td>\n",
       "      <td>0</td>\n",
       "      <td>асимметричная</td>\n",
       "    </tr>\n",
       "  </tbody>\n",
       "</table>\n",
       "</div>"
      ],
      "text/plain": [
       "   Unnamed: 0  id           norm  pos  sentence          token\n",
       "0           0   0           adsl    0         0           ADSL\n",
       "1           1   1           adsl    0         0           ADSL\n",
       "2           2   2              (   11         0              (\n",
       "3           3   3              —   13         0              —\n",
       "4           4   4  асимметричный   15         0  асимметричная"
      ]
     },
     "execution_count": 4,
     "metadata": {},
     "output_type": "execute_result"
    }
   ],
   "source": [
    "data.head()"
   ]
  },
  {
   "cell_type": "code",
   "execution_count": 5,
   "metadata": {
    "collapsed": true
   },
   "outputs": [],
   "source": [
    "tokens = data.token\n",
    "positions = data.pos\n",
    "sentences = data.sentence\n",
    "norms = data.norm"
   ]
  },
  {
   "cell_type": "code",
   "execution_count": 14,
   "metadata": {},
   "outputs": [],
   "source": [
    "current_sentence = sentences[0]\n",
    "lines = {}\n",
    "lines['X'] = []\n",
    "lines['Y'] = []\n",
    "sent_tokens = []\n",
    "sent_norms = []\n",
    "for i in range(len(tokens)):    \n",
    "    if sentences[i] == current_sentence:\n",
    "        sent_tokens.append(tokens[i])\n",
    "        sent_norms.append(norms[i])\n",
    "    else:\n",
    "        current_sentence = sentences[i]\n",
    "#         print(sent_tokens)\n",
    "        lines['X'].append(' '.join(sent_tokens))\n",
    "        lines['Y'].append(' '.join(sent_norms))\n",
    "        sent_tokens = []\n",
    "        sent_norms = []\n",
    "else:\n",
    "    lines['X'].append(' '.join(sent_tokens))\n",
    "    lines['Y'].append(' '.join(sent_norms))\n"
   ]
  },
  {
   "cell_type": "code",
   "execution_count": 19,
   "metadata": {},
   "outputs": [
    {
     "name": "stdout",
     "output_type": "stream",
     "text": [
      "ADSL ADSL ( — асимметричная цифровая абонентская линия ) — модемная технология , в которой доступная полоса пропускания канала распределена между исходящим и входящим трафиком асимметрично .\n",
      "adsl adsl ( — асимметричный цифровой абонентский линия ) — модемный технология , в который доступный полоса пропускание канал распределить между исходящая и входящая трафик асимметричный .\n"
     ]
    }
   ],
   "source": [
    "print(lines['X'][0])\n",
    "print(lines['Y'][0])"
   ]
  },
  {
   "cell_type": "code",
   "execution_count": 21,
   "metadata": {},
   "outputs": [],
   "source": [
    "symbols_table = {}\n",
    "codes_table = {}\n",
    "char_counter = 1\n",
    "net_data = {}\n",
    "net_data['X'] = []\n",
    "net_data['Y'] = []\n",
    "for sent in lines['X']:\n",
    "    encoded_sentence = []\n",
    "    for char in sent:\n",
    "        if char not in symbols_table:\n",
    "            symbols_table[char] = char_counter\n",
    "            codes_table[char_counter] = char\n",
    "            char_counter += 1\n",
    "        encoded_sentence.append(symbols_table[char])\n",
    "    encoded_sentence.append(0)\n",
    "    net_data['X'].append(encoded_sentence)\n",
    "    \n",
    "for sent in lines['Y']:\n",
    "    encoded_sentence = []\n",
    "    for char in sent:\n",
    "        if char not in symbols_table:\n",
    "            symbols_table[char] = char_counter\n",
    "            codes_table[char_counter] = char\n",
    "            char_counter += 1\n",
    "        encoded_sentence.append(symbols_table[char])        \n",
    "    encoded_sentence.append(0)\n",
    "    net_data['Y'].append(encoded_sentence)"
   ]
  },
  {
   "cell_type": "code",
   "execution_count": 27,
   "metadata": {},
   "outputs": [
    {
     "name": "stdout",
     "output_type": "stream",
     "text": [
      "1023\n"
     ]
    }
   ],
   "source": [
    "max_len = 0\n",
    "for sent in net_data['X']:\n",
    "    if len(sent) > max_len:\n",
    "        max_len = len(sent)\n",
    "        \n",
    "for sent in net_data['Y']:\n",
    "    if len(sent) > max_len:\n",
    "        max_len = len(sent)\n",
    "print max_len"
   ]
  },
  {
   "cell_type": "code",
   "execution_count": 28,
   "metadata": {
    "collapsed": true
   },
   "outputs": [],
   "source": [
    "for sent in net_data['X']:\n",
    "    while len(sent) < max_len:\n",
    "        sent.append(0)    \n",
    "        \n",
    "for sent in net_data['Y']:\n",
    "    while len(sent) < max_len:\n",
    "        sent.append(0) "
   ]
  },
  {
   "cell_type": "code",
   "execution_count": 103,
   "metadata": {},
   "outputs": [],
   "source": [
    "from keras.layers import LSTM, Dense, Embedding, TimeDistributed, Activation,RepeatVector\n",
    "from keras.models import Sequential"
   ]
  },
  {
   "cell_type": "code",
   "execution_count": 60,
   "metadata": {},
   "outputs": [
    {
     "name": "stdout",
     "output_type": "stream",
     "text": [
      "_________________________________________________________________\n",
      "Layer (type)                 Output Shape              Param #   \n",
      "=================================================================\n",
      "embedding_11 (Embedding)     (None, 1023, 10)          1170      \n",
      "_________________________________________________________________\n",
      "lstm_19 (LSTM)               (None, 50)                12200     \n",
      "_________________________________________________________________\n",
      "dense_15 (Dense)             (None, 50)                2550      \n",
      "_________________________________________________________________\n",
      "repeat_vector_10 (RepeatVect (None, 1023, 50)          0         \n",
      "_________________________________________________________________\n",
      "lstm_20 (LSTM)               (None, 1023, 50)          20200     \n",
      "_________________________________________________________________\n",
      "time_distributed_4 (TimeDist (None, 1023, 117)         5967      \n",
      "=================================================================\n",
      "Total params: 42,087\n",
      "Trainable params: 42,087\n",
      "Non-trainable params: 0\n",
      "_________________________________________________________________\n"
     ]
    }
   ],
   "source": [
    "model = Sequential()\n",
    "model.add(Embedding(input_dim=char_counter, output_dim=10, input_length=max_len, mask_zero=True))\n",
    "model.add(LSTM(50))\n",
    "model.add(Dense(50))\n",
    "model.add(RepeatVector(max_len))\n",
    "model.add(LSTM(50, return_sequences=True))\n",
    "model.add(TimeDistributed(Dense(char_counter)))\n",
    "model.compile(loss='sparse_categorical_crossentropy', optimizer='adam',\n",
    "             metrics=['accuracy'])\n",
    "\n",
    "model.summary()"
   ]
  },
  {
   "cell_type": "code",
   "execution_count": 46,
   "metadata": {},
   "outputs": [],
   "source": [
    "net_data['X'] = np.array(net_data['X'])"
   ]
  },
  {
   "cell_type": "code",
   "execution_count": 57,
   "metadata": {},
   "outputs": [],
   "source": [
    "net_data['Y'] = np.reshape(net_data['Y'],(42,1023,1))"
   ]
  },
  {
   "cell_type": "code",
   "execution_count": 64,
   "metadata": {},
   "outputs": [
    {
     "name": "stdout",
     "output_type": "stream",
     "text": [
      "Epoch 1/5\n",
      "42/42 [==============================] - 3s 68ms/step - loss: 6.1160 - acc: 0.0408\n",
      "Epoch 2/5\n",
      "42/42 [==============================] - 3s 66ms/step - loss: 9.0023 - acc: 0.0408\n",
      "Epoch 3/5\n",
      "42/42 [==============================] - 3s 65ms/step - loss: 4.6388 - acc: 0.0408\n",
      "Epoch 4/5\n",
      "42/42 [==============================] - 3s 66ms/step - loss: 3.2893 - acc: 0.0408\n",
      "Epoch 5/5\n",
      "42/42 [==============================] - 3s 70ms/step - loss: 5.5618 - acc: 0.0408\n"
     ]
    },
    {
     "data": {
      "text/plain": [
       "<keras.callbacks.History at 0x26942c50>"
      ]
     },
     "execution_count": 64,
     "metadata": {},
     "output_type": "execute_result"
    }
   ],
   "source": [
    "model.fit(net_data['X'], net_data['Y'], epochs=5)"
   ]
  },
  {
   "cell_type": "code",
   "execution_count": 65,
   "metadata": {
    "collapsed": true
   },
   "outputs": [],
   "source": [
    "net_answer = model.predict(net_data['X'])"
   ]
  },
  {
   "cell_type": "code",
   "execution_count": 100,
   "metadata": {},
   "outputs": [],
   "source": [
    "answer_sents = []\n",
    "for sent in net_answer:\n",
    "    answer_sent = ''\n",
    "    for char in sent:\n",
    "        res = np.argmax(char)        \n",
    "        if res > 0:\n",
    "            letter = codes_table[res]\n",
    "            answer_sent += codes_table[res]\n",
    "    answer_sents.append(answer_sent)"
   ]
  },
  {
   "cell_type": "code",
   "execution_count": 102,
   "metadata": {},
   "outputs": [
    {
     "name": "stdout",
     "output_type": "stream",
     "text": [
      "��������������������\n"
     ]
    }
   ],
   "source": [
    "print(answer_sents[0][:20])"
   ]
  }
 ],
 "metadata": {
  "kernelspec": {
   "display_name": "Python 2",
   "language": "python",
   "name": "python2"
  },
  "language_info": {
   "codemirror_mode": {
    "name": "ipython",
    "version": 2
   },
   "file_extension": ".py",
   "mimetype": "text/x-python",
   "name": "python",
   "nbconvert_exporter": "python",
   "pygments_lexer": "ipython2",
   "version": "2.7.14"
  }
 },
 "nbformat": 4,
 "nbformat_minor": 2
}
