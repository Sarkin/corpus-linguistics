{
 "cells": [
  {
   "cell_type": "code",
   "execution_count": 1,
   "metadata": {
    "collapsed": true
   },
   "outputs": [],
   "source": [
    "import os\n",
    "import re\n",
    "from os import path"
   ]
  },
  {
   "cell_type": "code",
   "execution_count": 3,
   "metadata": {
    "collapsed": true
   },
   "outputs": [],
   "source": [
    "# Путь к части дампа. Неважно какую часть выбрать, т.к. статьи перемешаны в произвольном порядке.\n",
    "data_path = r'wikiextraction\\text\\AA'\n",
    "# Корень хранилища.\n",
    "result_path = r'corpus'"
   ]
  },
  {
   "cell_type": "code",
   "execution_count": 58,
   "metadata": {
    "collapsed": true
   },
   "outputs": [],
   "source": [
    "reg_text = '<doc .* url=\"(?P<url>.*)\".*title=\"(?P<title>.*)\">.*'\n",
    "reg  = re.compile(reg_text)"
   ]
  },
  {
   "cell_type": "code",
   "execution_count": 80,
   "metadata": {
    "collapsed": false
   },
   "outputs": [],
   "source": [
    "# Очистка данных.\n",
    "\n",
    "def process_data(content):\n",
    "    content_parts = re.split('</doc>', content) \n",
    "    \n",
    "    for content_part in content_parts:     \n",
    "        content_part = content_part.strip()\n",
    "        result = re.match(reg, content_part) \n",
    "        \n",
    "        if result is None:           \n",
    "            continue \n",
    "            \n",
    "        result = result.groupdict()\n",
    "        \n",
    "        title = result['title']\n",
    "        metainfo[title] = result['url']\n",
    "        \n",
    "        try:\n",
    "            os.makedirs(join(result_path, title[0]))\n",
    "        except OSError:\n",
    "            pass\n",
    "        \n",
    "        try:\n",
    "            result_file = open(join(result_path, title[0], title + '.txt'), 'w',  encoding='utf-8')\n",
    "        except OSError:\n",
    "            continue \n",
    "            \n",
    "        header_end = content_part.find('>')\n",
    "       \n",
    "        result_file.write(content_part[header_end+1:].strip())\n",
    "        result_file.close()"
   ]
  },
  {
   "cell_type": "code",
   "execution_count": 81,
   "metadata": {
    "collapsed": false
   },
   "outputs": [],
   "source": [
    "metainfo = dict()\n",
    "data_files = listdir(data_path)\n",
    "\n",
    "for file_name in data_files:\n",
    "    content = open(join(data_path,file_name), 'r', encoding='utf-8').read()\n",
    "    process_data(content)       "
   ]
  },
  {
   "cell_type": "code",
   "execution_count": 87,
   "metadata": {
    "collapsed": false
   },
   "outputs": [],
   "source": [
    "metainfo_file = open(join(result_path, 'metainfo.txt'), 'w')\n",
    "for key in sorted(metainfo):\n",
    "    try:\n",
    "        metainfo_file.write(key +' : ' +  metainfo[key] + '\\n')\n",
    "    except UnicodeEncodeError:\n",
    "        continue\n",
    "metainfo_file.close()"
   ]
  },
  {
   "cell_type": "code",
   "execution_count": 88,
   "metadata": {
    "collapsed": false
   },
   "outputs": [
    {
     "name": "stdout",
     "output_type": "stream",
     "text": [
      "7910\n"
     ]
    }
   ],
   "source": [
    "print(len(metainfo.keys()))"
   ]
  }
 ],
 "metadata": {
  "anaconda-cloud": {},
  "kernelspec": {
   "display_name": "Python [Root]",
   "language": "python",
   "name": "Python [Root]"
  },
  "language_info": {
   "codemirror_mode": {
    "name": "ipython",
    "version": 3
   },
   "file_extension": ".py",
   "mimetype": "text/x-python",
   "name": "python",
   "nbconvert_exporter": "python",
   "pygments_lexer": "ipython3",
   "version": "3.5.2"
  }
 },
 "nbformat": 4,
 "nbformat_minor": 0
}
